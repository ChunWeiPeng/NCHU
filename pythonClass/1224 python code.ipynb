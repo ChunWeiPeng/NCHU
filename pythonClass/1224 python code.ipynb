{
 "cells": [
  {
   "cell_type": "code",
   "execution_count": 9,
   "metadata": {},
   "outputs": [
    {
     "data": {
      "text/plain": [
       "4"
      ]
     },
     "execution_count": 9,
     "metadata": {},
     "output_type": "execute_result"
    }
   ],
   "source": [
    "class Auto:\n",
    "    def __init__(self, make, model, mileage, price):\n",
    "        self.__make = make\n",
    "        self.__model = model\n",
    "        self.__mileage = mileage\n",
    "        self.__price = price\n",
    "        \n",
    "    def set_make(self, make):\n",
    "        self.__make = make\n",
    "    def set_model(self, model):\n",
    "        self.__model = model\n",
    "    def set_mileage(self, mileage):\n",
    "        self.__mileage = mileage\n",
    "    def set_price(self, price):\n",
    "        self.__price = price\n",
    "    def get_make(self):\n",
    "        return self.__make\n",
    "    def get_model(self):\n",
    "        return self.__model\n",
    "    def get_mileage(self):\n",
    "        return self.__mileage\n",
    "    def get_price(self):\n",
    "        return self.__price\n",
    "\n",
    "class Car(Auto): # subclass(superclass)\n",
    "    def __init__(self, make, model, mileage, price, doors):\n",
    "        Auto.__init__(self, make, model, mileage, price)\n",
    "        self.__doors = doors\n",
    "    def set_doors(self, doors):\n",
    "        self.__doors = doors\n",
    "    def get_doors(self):\n",
    "        return self.__doors\n",
    "    \n",
    "Used_car = Car(\"Audi\",\"A8\", 115000, 900000, 4)\n",
    "Used_car.get_make()\n",
    "Used_car.get_doors()\n",
    "    "
   ]
  },
  {
   "cell_type": "code",
   "execution_count": 12,
   "metadata": {},
   "outputs": [],
   "source": [
    "# polymorphism (同樣有make_sound但代表不同意思)\n",
    "class Mammal:\n",
    "    def __init__(self, species):\n",
    "        self.__species = species\n",
    "    def show_species(self):\n",
    "        print(\"I'm a \", self.__species)\n",
    "    def make_sound(self):\n",
    "        print(\"Grrr\")\n",
    "        \n",
    "class Dog(Mammal):\n",
    "    def ___init__(self):\n",
    "        Mammal.__init__(self,\"Dog\")\n",
    "    def make_sound(self):\n",
    "        print(\"Woof, woof\")\n",
    "\n",
    "class Cat(Mammal):\n",
    "    def ___init__(self):\n",
    "        Mammal.__init__(self,\"Cat\")\n",
    "    def make_sound(self):\n",
    "        print(\"Meow\")        \n",
    "# 可儲存成\"animal.py\"給之後import使用"
   ]
  },
  {
   "cell_type": "code",
   "execution_count": 13,
   "metadata": {},
   "outputs": [
    {
     "ename": "ModuleNotFoundError",
     "evalue": "No module named 'animal'",
     "output_type": "error",
     "traceback": [
      "\u001b[1;31m---------------------------------------------------------------------------\u001b[0m",
      "\u001b[1;31mModuleNotFoundError\u001b[0m                       Traceback (most recent call last)",
      "\u001b[1;32m<ipython-input-13-15b7c8e3b2f7>\u001b[0m in \u001b[0;36m<module>\u001b[1;34m\u001b[0m\n\u001b[1;32m----> 1\u001b[1;33m \u001b[1;32mimport\u001b[0m \u001b[0manimal\u001b[0m\u001b[1;33m\u001b[0m\u001b[1;33m\u001b[0m\u001b[0m\n\u001b[0m\u001b[0;32m      2\u001b[0m \u001b[1;32mdef\u001b[0m \u001b[0mshow_info\u001b[0m\u001b[1;33m(\u001b[0m\u001b[0mcreature\u001b[0m\u001b[1;33m)\u001b[0m\u001b[1;33m:\u001b[0m\u001b[1;33m\u001b[0m\u001b[1;33m\u001b[0m\u001b[0m\n\u001b[0;32m      3\u001b[0m     \u001b[1;32mif\u001b[0m \u001b[0misinstance\u001b[0m\u001b[1;33m(\u001b[0m\u001b[0mcreature\u001b[0m\u001b[1;33m,\u001b[0m \u001b[0manimal\u001b[0m\u001b[1;33m,\u001b[0m \u001b[0mMammal\u001b[0m\u001b[1;33m)\u001b[0m\u001b[1;33m:\u001b[0m\u001b[1;33m\u001b[0m\u001b[1;33m\u001b[0m\u001b[0m\n\u001b[0;32m      4\u001b[0m         \u001b[0mcreature\u001b[0m\u001b[1;33m.\u001b[0m\u001b[0mshow_species\u001b[0m\u001b[1;33m(\u001b[0m\u001b[1;33m)\u001b[0m\u001b[1;33m\u001b[0m\u001b[1;33m\u001b[0m\u001b[0m\n\u001b[0;32m      5\u001b[0m         \u001b[0mcreature\u001b[0m\u001b[1;33m.\u001b[0m\u001b[0mmake_sound\u001b[0m\u001b[1;33m(\u001b[0m\u001b[1;33m)\u001b[0m\u001b[1;33m\u001b[0m\u001b[1;33m\u001b[0m\u001b[0m\n",
      "\u001b[1;31mModuleNotFoundError\u001b[0m: No module named 'animal'"
     ]
    }
   ],
   "source": [
    "import animal\n",
    "def show_info(creature):\n",
    "    if isinstance(creature, animal.Mammal):\n",
    "        creature.show_species()\n",
    "        creature.make_sound()\n",
    "    else:\n",
    "        print(\"This is not a mammal.\")\n",
    "        \n",
    "def main():\n",
    "    mammal = animal.Mammal(\"regular mammal\")\n",
    "    dog = animal.Dog()\n",
    "    cat = animal.Cat()\n",
    "    show_info(mammal)\n",
    "    show_info(dog)\n",
    "    show_info(cat)\n",
    "    \n",
    "main()"
   ]
  },
  {
   "cell_type": "code",
   "execution_count": 17,
   "metadata": {},
   "outputs": [
    {
     "name": "stdout",
     "output_type": "stream",
     "text": [
      "Mesg: 4\n",
      "Mesg: 3\n",
      "Mesg: 2\n",
      "Mesg: 1\n"
     ]
    }
   ],
   "source": [
    "def msg(times):\n",
    "    if times > 0:\n",
    "        print(\"Mesg:\", times)\n",
    "        msg(times-1)\n",
    "\n",
    "msg(4)"
   ]
  },
  {
   "cell_type": "code",
   "execution_count": 20,
   "metadata": {},
   "outputs": [
    {
     "name": "stdout",
     "output_type": "stream",
     "text": [
      "120\n",
      "120\n"
     ]
    }
   ],
   "source": [
    "\"\"\"\"\"\"\n",
    "# iteration寫法\n",
    "def fact(n):\n",
    "    prod = 1\n",
    "    for i in range (2,n+1):\n",
    "        prod *= i\n",
    "    return prod\n",
    "\n",
    "fact(4)\n",
    "\n",
    "\n",
    "# recursion寫法\n",
    "def Fact(n):\n",
    "    if n == 0:\n",
    "        return 1\n",
    "    else:\n",
    "        return n*Fact(n-1)\n",
    "\n",
    "print(fact(5))    \n",
    "print(Fact(5))\n"
   ]
  },
  {
   "cell_type": "code",
   "execution_count": 21,
   "metadata": {},
   "outputs": [
    {
     "data": {
      "text/plain": [
       "89"
      ]
     },
     "execution_count": 21,
     "metadata": {},
     "output_type": "execute_result"
    }
   ],
   "source": [
    "# 費氏數列\n",
    "def fibo(n):\n",
    "    if n == 0:\n",
    "        return 1\n",
    "    elif n == 1:\n",
    "        return 1\n",
    "    else:\n",
    "        return fibo(n-1) + fibo (n-2)\n",
    "    \n",
    "fibo(10)"
   ]
  },
  {
   "cell_type": "code",
   "execution_count": null,
   "metadata": {},
   "outputs": [],
   "source": [
    "def gcd(x,y):\n",
    "    while y > 0:\n",
    "        x,y = y, x%y\n",
    "        return x\n",
    "\n",
    "def GCD(x,y):\n",
    "    if x%y == 0:\n",
    "        return y\n",
    "    else:\n",
    "        return GCD (y,x%y)"
   ]
  }
 ],
 "metadata": {
  "kernelspec": {
   "display_name": "Python 3",
   "language": "python",
   "name": "python3"
  },
  "language_info": {
   "codemirror_mode": {
    "name": "ipython",
    "version": 3
   },
   "file_extension": ".py",
   "mimetype": "text/x-python",
   "name": "python",
   "nbconvert_exporter": "python",
   "pygments_lexer": "ipython3",
   "version": "3.8.3"
  }
 },
 "nbformat": 4,
 "nbformat_minor": 4
}
