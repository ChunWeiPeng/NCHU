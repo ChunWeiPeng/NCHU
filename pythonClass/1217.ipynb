{
 "cells": [
  {
   "cell_type": "code",
   "execution_count": null,
   "metadata": {},
   "outputs": [],
   "source": [
    "#1217 class"
   ]
  },
  {
   "cell_type": "code",
   "execution_count": 2,
   "metadata": {},
   "outputs": [],
   "source": [
    "import random\n",
    "\n",
    "class Coin:  #Class name\n",
    "    \n",
    "    def __init__(self):  #first function initialize \n",
    "        self.__sideup = 'H'  #預設 H 朝上 , __ : private attribute\n",
    "        \n",
    "    def toss(self):\n",
    "        if random.randint(0, 1)==0:\n",
    "            self.__sideup = 'H'\n",
    "        else:\n",
    "            self.__sideup = 'T'\n",
    "            \n",
    "    def get_sideup(self):\n",
    "        return self.__sideup\n",
    "    \n",
    "    def __str__(self): #if use print() will show this\n",
    "        return \"** sideup \" + self.__sideup"
   ]
  },
  {
   "cell_type": "code",
   "execution_count": 14,
   "metadata": {},
   "outputs": [
    {
     "name": "stdout",
     "output_type": "stream",
     "text": [
      "Coin: H\n",
      "** sideup H\n",
      "H,T,H,H,T,T,H,H,T,H,"
     ]
    }
   ],
   "source": [
    "def main():\n",
    "    my_coin = Coin() # 產生 my_coin 物件\n",
    "    print(\"Coin:\", my_coin.get_sideup()) \n",
    "    print(my_coin)\n",
    "    for i in range(10): #show __str__ \n",
    "        my_coin.toss() \n",
    "        print(my_coin.get_sideup(), end=',')\n",
    "\n",
    "        \n",
    "main()"
   ]
  },
  {
   "cell_type": "code",
   "execution_count": 18,
   "metadata": {},
   "outputs": [
    {
     "name": "stdout",
     "output_type": "stream",
     "text": [
      "** sideup T\n",
      "** sideup H\n"
     ]
    }
   ],
   "source": [
    "coin1 = Coin()\n",
    "coin2 = Coin()\n",
    "coin3 = Coin()\n",
    "\n",
    "coin1.toss()\n",
    "print(coin1)\n",
    "coin2.toss()\n",
    "print(coin2)"
   ]
  },
  {
   "cell_type": "code",
   "execution_count": 12,
   "metadata": {},
   "outputs": [],
   "source": [
    "class BankAccount:\n",
    "    def __init__(self, balance):\n",
    "        self.__balance = balance\n",
    "        \n",
    "    def deposit(self, amount):\n",
    "        self.__balance += amount\n",
    "    \n",
    "    def withdraw(self, amount):\n",
    "        if self.__balance >= amount:\n",
    "            self.__balance -= amount\n",
    "        else:\n",
    "            print(\"Error: Insufficient founds\")\n",
    "    \n",
    "    def get_balance(self):\n",
    "        return self.__balance\n",
    "    \n",
    "    def __str__(self):\n",
    "        return \"The Balance is \" + format(self.__balance, \",.2f\")"
   ]
  },
  {
   "cell_type": "code",
   "execution_count": 13,
   "metadata": {},
   "outputs": [
    {
     "name": "stdout",
     "output_type": "stream",
     "text": [
      "Starting Balance:50000\n",
      "The Balance is 50,000.00\n"
     ]
    }
   ],
   "source": [
    "def main():\n",
    "    start_bal = float(input(\"Starting Balance:\"))\n",
    "    savings = BankAccount(start_bal)\n",
    "    print(savings)\n",
    "    \n",
    "main()"
   ]
  },
  {
   "cell_type": "code",
   "execution_count": null,
   "metadata": {},
   "outputs": [],
   "source": []
  }
 ],
 "metadata": {
  "kernelspec": {
   "display_name": "Python 3",
   "language": "python",
   "name": "python3"
  },
  "language_info": {
   "codemirror_mode": {
    "name": "ipython",
    "version": 3
   },
   "file_extension": ".py",
   "mimetype": "text/x-python",
   "name": "python",
   "nbconvert_exporter": "python",
   "pygments_lexer": "ipython3",
   "version": "3.8.3"
  }
 },
 "nbformat": 4,
 "nbformat_minor": 4
}
